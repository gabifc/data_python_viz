{
  "nbformat": 4,
  "nbformat_minor": 0,
  "metadata": {
    "colab": {
      "name": "revisao_funcoes_py.ipynb",
      "provenance": [],
      "authorship_tag": "ABX9TyO0B7suCnRbVR5B5gXctsl7",
      "include_colab_link": true
    },
    "kernelspec": {
      "name": "python3",
      "display_name": "Python 3"
    }
  },
  "cells": [
    {
      "cell_type": "markdown",
      "metadata": {
        "id": "view-in-github",
        "colab_type": "text"
      },
      "source": [
        "<a href=\"https://colab.research.google.com/github/gabifc/data_python_viz/blob/master/revisao_funcoes_py.ipynb\" target=\"_parent\"><img src=\"https://colab.research.google.com/assets/colab-badge.svg\" alt=\"Open In Colab\"/></a>"
      ]
    },
    {
      "cell_type": "markdown",
      "metadata": {
        "id": "wtLjQ4sAu4YQ"
      },
      "source": [
        "# **Funções**\n"
      ]
    },
    {
      "cell_type": "code",
      "metadata": {
        "id": "tdyviIODrOZx"
      },
      "source": [
        "def seu_nome():\n",
        "  nome = input(\"Qual seu nome?\")\n",
        "  print(f\"Olá {nome}!!!\")"
      ],
      "execution_count": 5,
      "outputs": []
    },
    {
      "cell_type": "code",
      "metadata": {
        "colab": {
          "base_uri": "https://localhost:8080/"
        },
        "id": "P8ew_RMpsGl0",
        "outputId": "b6247b56-3d56-462d-eefb-a9241c946b38"
      },
      "source": [
        "seu_nome()"
      ],
      "execution_count": 6,
      "outputs": [
        {
          "output_type": "stream",
          "text": [
            "Qual seu nome?Gabi\n",
            "Olá Gabi!!!\n"
          ],
          "name": "stdout"
        }
      ]
    },
    {
      "cell_type": "code",
      "metadata": {
        "id": "qomnU2DTtC31"
      },
      "source": [
        "def nome_completo():\n",
        " primeiro_nome = input('Qual seu primeiro nome? ')\n",
        " sobrenome = input('Qual seu sobrenome? ')\n",
        " nome_inteiro = primeiro_nome + ' ' + sobrenome\n",
        " print(nome_inteiro)\n",
        "\n",
        "nome_completo()"
      ],
      "execution_count": null,
      "outputs": []
    },
    {
      "cell_type": "code",
      "metadata": {
        "id": "hPORNa1MuQFF"
      },
      "source": [
        "# Função com Parametros\n",
        "def saudacao_parametros(nome_pessoa):\n",
        "  print(f\"Olá {nome_pessoa}\")\n"
      ],
      "execution_count": 9,
      "outputs": []
    },
    {
      "cell_type": "code",
      "metadata": {
        "id": "i4pHO14NuVJ3"
      },
      "source": [
        "nome = \"Gabi\""
      ],
      "execution_count": 11,
      "outputs": []
    },
    {
      "cell_type": "code",
      "metadata": {
        "colab": {
          "base_uri": "https://localhost:8080/"
        },
        "id": "Amv9FguiunzB",
        "outputId": "04b61579-c8a6-4cd2-99c5-874dfa80e274"
      },
      "source": [
        "saudacao_parametros(nome)"
      ],
      "execution_count": 12,
      "outputs": [
        {
          "output_type": "stream",
          "text": [
            "Olá Gabi\n"
          ],
          "name": "stdout"
        }
      ]
    },
    {
      "cell_type": "code",
      "metadata": {
        "id": "CvPO-u6FusjZ"
      },
      "source": [
        ""
      ],
      "execution_count": null,
      "outputs": []
    },
    {
      "cell_type": "markdown",
      "metadata": {
        "id": "CVM4Z3HRu9zV"
      },
      "source": [
        "# Condicionais"
      ]
    },
    {
      "cell_type": "markdown",
      "metadata": {
        "id": "8G-HtAb6wJsA"
      },
      "source": [
        "### com parâmetros"
      ]
    },
    {
      "cell_type": "code",
      "metadata": {
        "id": "L-i8gts_vIp0"
      },
      "source": [
        "idade = 20\n",
        "\n",
        "def verifica_idade(idade):\n",
        "  if idade >= 18:\n",
        "    print(\"Maior de idade\")\n",
        "  else:\n",
        "    print(\"Menor idade\")"
      ],
      "execution_count": 25,
      "outputs": []
    },
    {
      "cell_type": "code",
      "metadata": {
        "colab": {
          "base_uri": "https://localhost:8080/"
        },
        "id": "EaRSUC0CvQN9",
        "outputId": "ecd36f2b-6b5b-4d75-babb-85813ddaa7c4"
      },
      "source": [
        " verifica_idade(idade)"
      ],
      "execution_count": 26,
      "outputs": [
        {
          "output_type": "stream",
          "text": [
            "Maior de idade\n"
          ],
          "name": "stdout"
        }
      ]
    },
    {
      "cell_type": "markdown",
      "metadata": {
        "id": "umSYwZnXwZsK"
      },
      "source": [
        "### sem parâmetro e convertendo string para int\n"
      ]
    },
    {
      "cell_type": "code",
      "metadata": {
        "id": "SdlGb3zDw9Y-"
      },
      "source": [
        "def verica_idade_sem_parametro():\n",
        "  idade = input(\"Digite sua idade: \")\n",
        "  idade = int(idade)\n",
        "  if idade >= 18:\n",
        "    print(\"Maior de idade\")\n",
        "  else:\n",
        "    print(\"Menor idade\")"
      ],
      "execution_count": 33,
      "outputs": []
    },
    {
      "cell_type": "code",
      "metadata": {
        "colab": {
          "base_uri": "https://localhost:8080/"
        },
        "id": "AtBMxql7xL71",
        "outputId": "ce125f18-1842-4fbb-95e6-75eba5e95ad1"
      },
      "source": [
        "verica_idade_sem_parametro()"
      ],
      "execution_count": 34,
      "outputs": [
        {
          "output_type": "stream",
          "text": [
            "Digite sua idade: 15\n",
            "Menor idade\n"
          ],
          "name": "stdout"
        }
      ]
    },
    {
      "cell_type": "code",
      "metadata": {
        "id": "qbQ-OluVxOHk"
      },
      "source": [
        ""
      ],
      "execution_count": null,
      "outputs": []
    },
    {
      "cell_type": "markdown",
      "metadata": {
        "id": "vjsChtIix9s2"
      },
      "source": [
        "### exercício\n",
        "\n",
        "Uma pessoa vai até a padaria todos os dias. A distância de sua casa até o estabelecimento, é de 100 metros e todo percurso é feito em 20 segundos.\n",
        "\n",
        "Para calcular a velocidade média e descobrir a razão do espaço pelo tempo, podemos dividir o espaço percorrido pelo tempo.\n",
        "\n",
        "Sabendo disso, a pessoa deseja criar uma função chamada velocidade, que recebe 2 parâmetros chamados espaco e tempo, realizar o cálculo e exibir uma saída semelhante ao exemplo abaixo:"
      ]
    },
    {
      "cell_type": "code",
      "metadata": {
        "id": "AiTIS9P8ybBo"
      },
      "source": [
        "def vel_med(espaco, tempo):\n",
        "  velocidade = espaco / tempo\n",
        "  print(f\"Velocidade: {velocidade} m/s\")"
      ],
      "execution_count": 45,
      "outputs": []
    },
    {
      "cell_type": "code",
      "metadata": {
        "colab": {
          "base_uri": "https://localhost:8080/"
        },
        "id": "tb5F7EkIzeWi",
        "outputId": "c3cf3322-462c-46a9-b5a7-6bdde3caa51a"
      },
      "source": [
        "vel_med(100,20)"
      ],
      "execution_count": 46,
      "outputs": [
        {
          "output_type": "stream",
          "text": [
            "Velocidade: 5.0 m/s\n"
          ],
          "name": "stdout"
        }
      ]
    },
    {
      "cell_type": "markdown",
      "metadata": {
        "id": "ofMO1ahd1SGh"
      },
      "source": [
        "# **Listas**"
      ]
    },
    {
      "cell_type": "code",
      "metadata": {
        "colab": {
          "base_uri": "https://localhost:8080/"
        },
        "id": "I8lIli_mztDp",
        "outputId": "c7c46929-33e6-4e82-b97f-1e61ff027eaa"
      },
      "source": [
        "idade = 22\n",
        "idade"
      ],
      "execution_count": 47,
      "outputs": [
        {
          "output_type": "execute_result",
          "data": {
            "text/plain": [
              "22"
            ]
          },
          "metadata": {
            "tags": []
          },
          "execution_count": 47
        }
      ]
    },
    {
      "cell_type": "code",
      "metadata": {
        "colab": {
          "base_uri": "https://localhost:8080/"
        },
        "id": "9gDT7FuG0sJ5",
        "outputId": "a6bb2741-d035-47b8-9a3d-88e8f925b33f"
      },
      "source": [
        "type(idade)"
      ],
      "execution_count": 48,
      "outputs": [
        {
          "output_type": "execute_result",
          "data": {
            "text/plain": [
              "int"
            ]
          },
          "metadata": {
            "tags": []
          },
          "execution_count": 48
        }
      ]
    },
    {
      "cell_type": "code",
      "metadata": {
        "id": "dZa7QlLh1bIP"
      },
      "source": [
        "idades = [18, 22, 15, 50]"
      ],
      "execution_count": 49,
      "outputs": []
    },
    {
      "cell_type": "code",
      "metadata": {
        "colab": {
          "base_uri": "https://localhost:8080/"
        },
        "id": "ZvzeBCe11ioM",
        "outputId": "968fb3a5-a932-479d-e2ab-1c0323dddb5c"
      },
      "source": [
        "idades[2]"
      ],
      "execution_count": 50,
      "outputs": [
        {
          "output_type": "execute_result",
          "data": {
            "text/plain": [
              "15"
            ]
          },
          "metadata": {
            "tags": []
          },
          "execution_count": 50
        }
      ]
    },
    {
      "cell_type": "markdown",
      "metadata": {
        "id": "Jcyp-EUH2HEc"
      },
      "source": [
        "# Loops"
      ]
    },
    {
      "cell_type": "code",
      "metadata": {
        "colab": {
          "base_uri": "https://localhost:8080/"
        },
        "id": "Hy5MkepA1khi",
        "outputId": "b7e06d8d-1a02-4789-cf87-a8ddbb2b1b9e"
      },
      "source": [
        "# for fora da def\n",
        "def verifica_se_pode_dirigir(idades):\n",
        "  if idade >= 18:\n",
        "    print(f\"{idades} anos de idade, TEM permissão para dirigir\")\n",
        "  else:\n",
        "    print(f\"{idades} anos de idade, NÃO TEM permissão para dirigir\")\n",
        "\n",
        "for idade in idades:\n",
        "  verifica_se_pode_dirigir(idade)"
      ],
      "execution_count": 57,
      "outputs": [
        {
          "output_type": "stream",
          "text": [
            "18 anos de idade, TEM permissão para dirigir\n",
            "22 anos de idade, TEM permissão para dirigir\n",
            "15 anos de idade, NÃO TEM permissão para dirigir\n",
            "50 anos de idade, TEM permissão para dirigir\n"
          ],
          "name": "stdout"
        }
      ]
    },
    {
      "cell_type": "code",
      "metadata": {
        "id": "cxVCyjl93VTC"
      },
      "source": [
        "# for dentro da def - quando chamar a função chamar idades e não idade\n",
        "\n",
        "def verifica_se_pode_dirigir(idades):\n",
        "  for idade in idades:\n",
        "    if idade >= 18:\n",
        "      print(f\"{idades} anos de idade, TEM permissão para dirigir\")\n",
        "    else:\n",
        "      print(f\"{idades} anos de idade, NÃO TEM permissão para dirigir\")\n",
        "\n"
      ],
      "execution_count": 60,
      "outputs": []
    },
    {
      "cell_type": "code",
      "metadata": {
        "colab": {
          "base_uri": "https://localhost:8080/"
        },
        "id": "4Jh3QpQw350f",
        "outputId": "8f9710a6-514f-4b10-b0f2-4a3524014aa9"
      },
      "source": [
        "verifica_se_pode_dirigir(idades)"
      ],
      "execution_count": 62,
      "outputs": [
        {
          "output_type": "stream",
          "text": [
            "[18, 22, 15, 50] anos de idade, TEM permissão para dirigir\n",
            "[18, 22, 15, 50] anos de idade, TEM permissão para dirigir\n",
            "[18, 22, 15, 50] anos de idade, NÃO TEM permissão para dirigir\n",
            "[18, 22, 15, 50] anos de idade, TEM permissão para dirigir\n"
          ],
          "name": "stdout"
        }
      ]
    },
    {
      "cell_type": "markdown",
      "metadata": {
        "id": "ujhi2UjW4QgO"
      },
      "source": [
        "# Boleano\n",
        "função identifica qual idade é > que 18 e add na lista permissões"
      ]
    },
    {
      "cell_type": "code",
      "metadata": {
        "id": "50uzLh0Y4Cxk"
      },
      "source": [
        "permissoes = []\n",
        "idades = [20, 15, 45, 77, 18, 21]\n",
        "\n",
        "def lista_pode_dirigir(idades, permissoes):\n",
        "  for idade in idades:\n",
        "    if idade>= 18:\n",
        "      permissoes.append(True)\n",
        "    else:\n",
        "      permissoes.append(False)\n",
        "lista_pode_dirigir(idades,permissoes)"
      ],
      "execution_count": 64,
      "outputs": []
    },
    {
      "cell_type": "code",
      "metadata": {
        "colab": {
          "base_uri": "https://localhost:8080/"
        },
        "id": "Oh-J3YDn5TgX",
        "outputId": "c01e60d6-6ff2-4487-9018-645fd871b43a"
      },
      "source": [
        "permissoes"
      ],
      "execution_count": 65,
      "outputs": [
        {
          "output_type": "execute_result",
          "data": {
            "text/plain": [
              "[True, False, True, True, True, True]"
            ]
          },
          "metadata": {
            "tags": []
          },
          "execution_count": 65
        }
      ]
    },
    {
      "cell_type": "code",
      "metadata": {
        "colab": {
          "base_uri": "https://localhost:8080/"
        },
        "id": "ZdwyslGX5ej2",
        "outputId": "51670e88-c58d-4b9d-bc04-a5851beb1c52"
      },
      "source": [
        "for permissao in permissoes:\n",
        "  if permissao == True:\n",
        "    print(\"Pode\")\n",
        "  else:\n",
        "    print(\"Não pode\")"
      ],
      "execution_count": 67,
      "outputs": [
        {
          "output_type": "stream",
          "text": [
            "Pode\n",
            "Não pode\n",
            "Pode\n",
            "Pode\n",
            "Pode\n",
            "Pode\n"
          ],
          "name": "stdout"
        }
      ]
    },
    {
      "cell_type": "markdown",
      "metadata": {
        "id": "IUlzkG7j7FHO"
      },
      "source": [
        "# **Tipos em uma lista**"
      ]
    },
    {
      "cell_type": "code",
      "metadata": {
        "colab": {
          "base_uri": "https://localhost:8080/"
        },
        "id": "Q9zFq2sH6LLu",
        "outputId": "cc255505-d7d3-4622-8099-4b6d01a7c5c8"
      },
      "source": [
        "lista_2 = [\"Gabi\", 28, True, \"18\"]\n",
        "\n",
        "for elemento in lista_2:\n",
        "  print(f\"O elemento é do tipo: \", type(elemento))"
      ],
      "execution_count": 68,
      "outputs": [
        {
          "output_type": "stream",
          "text": [
            "O elemento é do tipo:  <class 'str'>\n",
            "O elemento é do tipo:  <class 'int'>\n",
            "O elemento é do tipo:  <class 'bool'>\n",
            "O elemento é do tipo:  <class 'str'>\n"
          ],
          "name": "stdout"
        }
      ]
    },
    {
      "cell_type": "markdown",
      "metadata": {
        "id": "TCAzFKRt8OvC"
      },
      "source": [
        "Armazenando notas aleatorias em uma lista com **range**"
      ]
    },
    {
      "cell_type": "code",
      "metadata": {
        "id": "lgENsczs74YV"
      },
      "source": [
        "from random import randrange, seed"
      ],
      "execution_count": 81,
      "outputs": []
    },
    {
      "cell_type": "code",
      "metadata": {
        "id": "Gttg4byn-92y"
      },
      "source": [
        "seed(9) # para manipular os numeros gerados"
      ],
      "execution_count": 82,
      "outputs": []
    },
    {
      "cell_type": "code",
      "metadata": {
        "colab": {
          "base_uri": "https://localhost:8080/"
        },
        "id": "2JSn2_Rx9BL0",
        "outputId": "beaaf342-40eb-40c6-f728-785fec8197fe"
      },
      "source": [
        "randrange(0,10)"
      ],
      "execution_count": 83,
      "outputs": [
        {
          "output_type": "execute_result",
          "data": {
            "text/plain": [
              "7"
            ]
          },
          "metadata": {
            "tags": []
          },
          "execution_count": 83
        }
      ]
    },
    {
      "cell_type": "code",
      "metadata": {
        "colab": {
          "base_uri": "https://localhost:8080/"
        },
        "id": "h18qyMQl9R5p",
        "outputId": "8f93ef63-c3aa-4b96-da27-093792ac2b4f"
      },
      "source": [
        "notas_matematica = []\n",
        "\n",
        "# para cada nota no range adicione 8 notas de 0 até 10\n",
        "for nota in range(8):\n",
        "  notas_matematica.append(randrange(0,11))\n",
        "\n",
        "notas_matematica"
      ],
      "execution_count": 84,
      "outputs": [
        {
          "output_type": "execute_result",
          "data": {
            "text/plain": [
              "[9, 5, 4, 2, 2, 10, 0, 5]"
            ]
          },
          "metadata": {
            "tags": []
          },
          "execution_count": 84
        }
      ]
    },
    {
      "cell_type": "markdown",
      "metadata": {
        "id": "3Vnj6FiK_Ynx"
      },
      "source": [
        "MATPLOTLIB\n"
      ]
    },
    {
      "cell_type": "code",
      "metadata": {
        "id": "5pAy1kra-CEP"
      },
      "source": [
        "import matplotlib.pyplot as plt"
      ],
      "execution_count": 85,
      "outputs": []
    },
    {
      "cell_type": "code",
      "metadata": {
        "colab": {
          "base_uri": "https://localhost:8080/",
          "height": 313
        },
        "id": "pFLkK2QU_emJ",
        "outputId": "fecc74e4-fd1f-47f5-97ec-e1cc0ed8d769"
      },
      "source": [
        "# 8 posições de notas no eixo x\n",
        "x = list(range(1,9))\n",
        "# as notas geradas acima são o eixo y\n",
        "y = notas_matematica\n",
        "#criando grafico\n",
        "plt.plot(x,y,\"g\", marker=\"*\")\n",
        "plt.xlabel(\"provas\")\n",
        "plt.ylabel(\"notas\")\n",
        "plt.title(\"Notas do aluno João\")"
      ],
      "execution_count": 87,
      "outputs": [
        {
          "output_type": "execute_result",
          "data": {
            "text/plain": [
              "Text(0.5, 1.0, 'Notas do aluno João')"
            ]
          },
          "metadata": {
            "tags": []
          },
          "execution_count": 87
        },
        {
          "output_type": "display_data",
          "data": {
            "image/png": "[encoded data removed]",
            "text/plain": [
              "<Figure size 432x288 with 1 Axes>"
            ]
          },
          "metadata": {
            "tags": [],
            "needs_background": "light"
          }
        }
      ]
    },
    {
      "cell_type": "code",
      "metadata": {
        "colab": {
          "base_uri": "https://localhost:8080/"
        },
        "id": "yNSgL9TvAUTU",
        "outputId": "6bdb1dc4-1519-4f99-ece7-5d3a52552128"
      },
      "source": [
        "# conferindo\n",
        "notas_matematica"
      ],
      "execution_count": 88,
      "outputs": [
        {
          "output_type": "execute_result",
          "data": {
            "text/plain": [
              "[9, 5, 4, 2, 2, 10, 0, 5]"
            ]
          },
          "metadata": {
            "tags": []
          },
          "execution_count": 88
        }
      ]
    },
    {
      "cell_type": "markdown",
      "metadata": {
        "id": "74CgmulVBb3X"
      },
      "source": [
        ""
      ]
    },
    {
      "cell_type": "code",
      "metadata": {
        "id": "mxXRBKnCA4QZ"
      },
      "source": [
        "import matplotlib.pyplot as plt\n",
        "\n",
        "notas_matematica = ['Matemática',8,7,6,6,7,7,8,10]\n",
        "notas_portugues = ['Português',9,9,9,8,5,6,8,5]\n",
        "notas_geografia = ['Geografia',10,10,6,7,7,7,8,7]\n",
        "\n",
        "notas = [notas_matematica, notas_portugues, notas_geografia]"
      ],
      "execution_count": 89,
      "outputs": []
    },
    {
      "cell_type": "code",
      "metadata": {
        "colab": {
          "base_uri": "https://localhost:8080/",
          "height": 851
        },
        "id": "1t0WGIFyBdhR",
        "outputId": "0af44994-4228-4ae7-f198-7449f270aa47"
      },
      "source": [
        "for nota in notas:\n",
        " x = list(range(1, 9))\n",
        " y = nota[1:]\n",
        " plt.plot(x, y, marker='o')\n",
        " plt.xlabel('Provas')\n",
        " plt.ylabel('Notas')\n",
        " plt.title(nota[0])\n",
        " plt.show()\n",
        "\n",
        " # variável y irá armazenar a nota de cada matéria a partir do índice 1 e o título, \n",
        " # armazenado no índice 0 será incluso no gráfico."
      ],
      "execution_count": 90,
      "outputs": [
        {
          "output_type": "display_data",
          "data": {
            "image/png": "[encoded data removed]",
            "text/plain": [
              "<Figure size 432x288 with 1 Axes>"
            ]
          },
          "metadata": {
            "tags": [],
            "needs_background": "light"
          }
        },
        {
          "output_type": "display_data",
          "data": {
            "image/png": "[encoded data removed]",
            "text/plain": [
              "<Figure size 432x288 with 1 Axes>"
            ]
          },
          "metadata": {
            "tags": [],
            "needs_background": "light"
          }
        },
        {
          "output_type": "display_data",
          "data": {
            "image/png": "[encoded data removed]",
            "text/plain": [
              "<Figure size 432x288 with 1 Axes>"
            ]
          },
          "metadata": {
            "tags": [],
            "needs_background": "light"
          }
        }
      ]
    },
    {
      "cell_type": "code",
      "metadata": {
        "id": "-tys9HYXBfr2"
      },
      "source": [
        ""
      ],
      "execution_count": null,
      "outputs": []
    }
  ]
}